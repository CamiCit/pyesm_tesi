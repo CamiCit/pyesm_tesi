{
 "cells": [
  {
   "cell_type": "markdown",
   "metadata": {},
   "source": [
    "## Python based Input-Output Modelling System (pyESM)\n",
    "Python package for generation and analysis of generic systems models "
   ]
  },
  {
   "cell_type": "markdown",
   "metadata": {},
   "source": [
    "GENERATION OF A NEW MODEL by creating a new set.xlsx"
   ]
  },
  {
   "cell_type": "code",
   "execution_count": 18,
   "metadata": {},
   "outputs": [
    {
     "name": "stderr",
     "output_type": "stream",
     "text": [
      "INFO | Model | Generating 'main' pyESM model instance.\n",
      "INFO | Model | Model directory and required setup files validated.\n",
      "INFO | Model.core.database | Sets excel file 'sets.xlsx' already exists.\n",
      "INFO | Model.core.database | Relying on existing sets excel file 'sets.xlsx'.\n"
     ]
    }
   ],
   "source": [
    "# Generate model instance based on setup files filled by the user.\n",
    "# Validates model directory before executing.\n",
    "# Generates sets excel file\n",
    "# If existing data are used, model coordinates are loaded and numerical problem\n",
    "# initialized (model ready to be run). Otherwise, sets excel file generated only.\n",
    "import esm\n",
    "\n",
    "model_dir_name = 'main'\n",
    "main_dir_path = 'thesis'\n",
    "\n",
    "model = esm.Model(\n",
    "    model_dir_name=model_dir_name,\n",
    "    main_dir_path=main_dir_path,\n",
    "    use_existing_data=False,\n",
    "    log_level='info',\n",
    ")"
   ]
  },
  {
   "cell_type": "markdown",
   "metadata": {},
   "source": [
    "Existing data == True"
   ]
  },
  {
   "cell_type": "code",
   "execution_count": null,
   "metadata": {},
   "outputs": [],
   "source": [
    "# Generate model instance based on existing data\n",
    "# If existing data are used, model coordinates are loaded and numerical problem\n",
    "# initialized (model ready to be run)\n",
    "import esm\n",
    "\n",
    "model_dir_name = 'a'\n",
    "main_dir_path = 'thesis'\n",
    "\n",
    "model = esm.Model(\n",
    "    model_dir_name=model_dir_name,\n",
    "    main_dir_path=main_dir_path,\n",
    "    use_existing_data=True,\n",
    "    log_level='info',\n",
    ")"
   ]
  },
  {
   "cell_type": "code",
   "execution_count": 19,
   "metadata": {},
   "outputs": [
    {
     "name": "stderr",
     "output_type": "stream",
     "text": [
      "INFO | Model | Loading new sets data and variable coordinates to Index.\n",
      "INFO | Model | Generating new SQLite database 'database.db' and input excel file/s.\n"
     ]
    }
   ],
   "source": [
    "# Once sets.xlsx file has filled: \n",
    "# - loading model coordinates to Index\n",
    "# - generating blank sqlite database for sets and variables \n",
    "# (variables tables in sqlite database empty)\n",
    "model.load_model_coordinates()\n",
    "model.initialize_blank_data_structure()"
   ]
  },
  {
   "cell_type": "code",
   "execution_count": 20,
   "metadata": {},
   "outputs": [
    {
     "name": "stderr",
     "output_type": "stream",
     "text": [
      "INFO | Model | Loading input data to SQLite database.\n",
      "INFO | Model | Loading symbolic problem, initializing numerical problem.\n"
     ]
    },
    {
     "ename": "ValueError",
     "evalue": "Cannot broadcast dimensions  (6, 1) (7, 1)",
     "output_type": "error",
     "traceback": [
      "\u001b[0;31m---------------------------------------------------------------------------\u001b[0m",
      "\u001b[0;31mValueError\u001b[0m                                Traceback (most recent call last)",
      "Cell \u001b[0;32mIn[20], line 5\u001b[0m\n\u001b[1;32m      1\u001b[0m \u001b[38;5;66;03m# after filling input_data file/s:\u001b[39;00m\n\u001b[1;32m      2\u001b[0m \u001b[38;5;66;03m# - loading input data into sqlite database variables tables\u001b[39;00m\n\u001b[1;32m      3\u001b[0m \u001b[38;5;66;03m# - initialize problem\u001b[39;00m\n\u001b[1;32m      4\u001b[0m model\u001b[38;5;241m.\u001b[39mload_exogenous_data_to_sqlite_database()\n\u001b[0;32m----> 5\u001b[0m \u001b[43mmodel\u001b[49m\u001b[38;5;241;43m.\u001b[39;49m\u001b[43minitialize_problems\u001b[49m\u001b[43m(\u001b[49m\u001b[43m)\u001b[49m\n",
      "File \u001b[0;32m~/Documents/GitHub/pyesm_tesi/esm/backend/model.py:349\u001b[0m, in \u001b[0;36mModel.initialize_problems\u001b[0;34m(self, force_overwrite)\u001b[0m\n\u001b[1;32m    347\u001b[0m \u001b[38;5;28mself\u001b[39m\u001b[38;5;241m.\u001b[39mcore\u001b[38;5;241m.\u001b[39minitialize_problems_variables()\n\u001b[1;32m    348\u001b[0m \u001b[38;5;28mself\u001b[39m\u001b[38;5;241m.\u001b[39mcore\u001b[38;5;241m.\u001b[39mdata_to_cvxpy_exogenous_vars()\n\u001b[0;32m--> 349\u001b[0m \u001b[38;5;28;43mself\u001b[39;49m\u001b[38;5;241;43m.\u001b[39;49m\u001b[43mcore\u001b[49m\u001b[38;5;241;43m.\u001b[39;49m\u001b[43mdefine_mathematical_problems\u001b[49m\u001b[43m(\u001b[49m\u001b[43mforce_overwrite\u001b[49m\u001b[43m)\u001b[49m\n",
      "File \u001b[0;32m~/Documents/GitHub/pyesm_tesi/esm/backend/core.py:275\u001b[0m, in \u001b[0;36mCore.define_mathematical_problems\u001b[0;34m(self, force_overwrite)\u001b[0m\n\u001b[1;32m    271\u001b[0m \u001b[38;5;28mself\u001b[39m\u001b[38;5;241m.\u001b[39mlogger\u001b[38;5;241m.\u001b[39mdebug(\n\u001b[1;32m    272\u001b[0m     \u001b[38;5;124m\"\u001b[39m\u001b[38;5;124mLoad symbolic problem, initialize dataframes with cvxpy problem.\u001b[39m\u001b[38;5;124m\"\u001b[39m)\n\u001b[1;32m    274\u001b[0m \u001b[38;5;28mself\u001b[39m\u001b[38;5;241m.\u001b[39mproblem\u001b[38;5;241m.\u001b[39mload_symbolic_problem_from_file(force_overwrite)\n\u001b[0;32m--> 275\u001b[0m \u001b[38;5;28;43mself\u001b[39;49m\u001b[38;5;241;43m.\u001b[39;49m\u001b[43mproblem\u001b[49m\u001b[38;5;241;43m.\u001b[39;49m\u001b[43mgenerate_numerical_problems\u001b[49m\u001b[43m(\u001b[49m\u001b[43mforce_overwrite\u001b[49m\u001b[43m)\u001b[49m\n",
      "File \u001b[0;32m~/Documents/GitHub/pyesm_tesi/esm/backend/problem.py:905\u001b[0m, in \u001b[0;36mProblem.generate_numerical_problems\u001b[0;34m(self, force_overwrite)\u001b[0m\n\u001b[1;32m    901\u001b[0m     \u001b[38;5;28mself\u001b[39m\u001b[38;5;241m.\u001b[39mlogger\u001b[38;5;241m.\u001b[39mdebug(\n\u001b[1;32m    902\u001b[0m         \u001b[38;5;124m\"\u001b[39m\u001b[38;5;124mDefining numerical problems based on symbolic problems.\u001b[39m\u001b[38;5;124m\"\u001b[39m)\n\u001b[1;32m    904\u001b[0m \u001b[38;5;28;01mif\u001b[39;00m util\u001b[38;5;241m.\u001b[39mfind_dict_depth(\u001b[38;5;28mself\u001b[39m\u001b[38;5;241m.\u001b[39msymbolic_problem) \u001b[38;5;241m==\u001b[39m \u001b[38;5;241m1\u001b[39m:\n\u001b[0;32m--> 905\u001b[0m     \u001b[38;5;28mself\u001b[39m\u001b[38;5;241m.\u001b[39mnumerical_problems \u001b[38;5;241m=\u001b[39m \u001b[38;5;28;43mself\u001b[39;49m\u001b[38;5;241;43m.\u001b[39;49m\u001b[43mgenerate_problem_dataframe\u001b[49m\u001b[43m(\u001b[49m\n\u001b[1;32m    906\u001b[0m \u001b[43m        \u001b[49m\u001b[43msymbolic_problem\u001b[49m\u001b[38;5;241;43m=\u001b[39;49m\u001b[38;5;28;43mself\u001b[39;49m\u001b[38;5;241;43m.\u001b[39;49m\u001b[43msymbolic_problem\u001b[49m\n\u001b[1;32m    907\u001b[0m \u001b[43m    \u001b[49m\u001b[43m)\u001b[49m\n\u001b[1;32m    908\u001b[0m     \u001b[38;5;66;03m# self.problem_status = None\u001b[39;00m\n\u001b[1;32m    910\u001b[0m \u001b[38;5;28;01melif\u001b[39;00m util\u001b[38;5;241m.\u001b[39mfind_dict_depth(\u001b[38;5;28mself\u001b[39m\u001b[38;5;241m.\u001b[39msymbolic_problem) \u001b[38;5;241m==\u001b[39m \u001b[38;5;241m2\u001b[39m:\n",
      "File \u001b[0;32m~/Documents/GitHub/pyesm_tesi/esm/backend/problem.py:998\u001b[0m, in \u001b[0;36mProblem.generate_problem_dataframe\u001b[0;34m(self, symbolic_problem, problem_key)\u001b[0m\n\u001b[1;32m    996\u001b[0m \u001b[38;5;66;03m# define explicit problem constraints (user-defined constraints)\u001b[39;00m\n\u001b[1;32m    997\u001b[0m symbolic_constraints \u001b[38;5;241m=\u001b[39m symbolic_problem\u001b[38;5;241m.\u001b[39mget(headers[\u001b[38;5;124m'\u001b[39m\u001b[38;5;124mconstraints\u001b[39m\u001b[38;5;124m'\u001b[39m])\n\u001b[0;32m--> 998\u001b[0m constraints \u001b[38;5;241m=\u001b[39m \u001b[38;5;28;43mself\u001b[39;49m\u001b[38;5;241;43m.\u001b[39;49m\u001b[43mdefine_expressions\u001b[49m\u001b[43m(\u001b[49m\n\u001b[1;32m    999\u001b[0m \u001b[43m    \u001b[49m\u001b[43msymbolic_expressions\u001b[49m\u001b[38;5;241;43m=\u001b[39;49m\u001b[43msymbolic_constraints\u001b[49m\u001b[43m,\u001b[49m\n\u001b[1;32m   1000\u001b[0m \u001b[43m    \u001b[49m\u001b[43mproblem_filter\u001b[49m\u001b[38;5;241;43m=\u001b[39;49m\u001b[43mproblem_filter\u001b[49m\u001b[43m,\u001b[49m\n\u001b[1;32m   1001\u001b[0m \u001b[43m    \u001b[49m\u001b[43mproblem_key\u001b[49m\u001b[38;5;241;43m=\u001b[39;49m\u001b[43mproblem_key\u001b[49m\u001b[43m,\u001b[49m\n\u001b[1;32m   1002\u001b[0m \u001b[43m\u001b[49m\u001b[43m)\u001b[49m\n\u001b[1;32m   1004\u001b[0m \u001b[38;5;66;03m# define problem objective\u001b[39;00m\n\u001b[1;32m   1005\u001b[0m \u001b[38;5;66;03m# if not defined in yml, a dummy objective is defined\u001b[39;00m\n\u001b[1;32m   1006\u001b[0m symbolic_objective \u001b[38;5;241m=\u001b[39m symbolic_problem\u001b[38;5;241m.\u001b[39mget(\n\u001b[1;32m   1007\u001b[0m     headers[\u001b[38;5;124m'\u001b[39m\u001b[38;5;124mobjective\u001b[39m\u001b[38;5;124m'\u001b[39m], \u001b[38;5;28;01mNone\u001b[39;00m)\n",
      "File \u001b[0;32m~/Documents/GitHub/pyesm_tesi/esm/backend/problem.py:1337\u001b[0m, in \u001b[0;36mProblem.define_expressions\u001b[0;34m(self, symbolic_expressions, problem_filter, problem_key)\u001b[0m\n\u001b[1;32m   1330\u001b[0m \u001b[38;5;28;01melse\u001b[39;00m:\n\u001b[1;32m   1331\u001b[0m     allowed_variables \u001b[38;5;241m=\u001b[39m \u001b[38;5;28mself\u001b[39m\u001b[38;5;241m.\u001b[39mfetch_allowed_cvxpy_variables(\n\u001b[1;32m   1332\u001b[0m         variables_set_dict\u001b[38;5;241m=\u001b[39m{\u001b[38;5;241m*\u001b[39m\u001b[38;5;241m*\u001b[39mvars_subset, \u001b[38;5;241m*\u001b[39m\u001b[38;5;241m*\u001b[39mconstants_subset},\n\u001b[1;32m   1333\u001b[0m         problem_filter\u001b[38;5;241m=\u001b[39mproblem_filter,\n\u001b[1;32m   1334\u001b[0m         problem_key\u001b[38;5;241m=\u001b[39mproblem_key,\n\u001b[1;32m   1335\u001b[0m     )\n\u001b[0;32m-> 1337\u001b[0m     cvxpy_expression \u001b[38;5;241m=\u001b[39m \u001b[38;5;28;43mself\u001b[39;49m\u001b[38;5;241;43m.\u001b[39;49m\u001b[43mexecute_cvxpy_code\u001b[49m\u001b[43m(\u001b[49m\n\u001b[1;32m   1338\u001b[0m \u001b[43m        \u001b[49m\u001b[43mexpression\u001b[49m\u001b[38;5;241;43m=\u001b[39;49m\u001b[43mexpression\u001b[49m\u001b[43m,\u001b[49m\n\u001b[1;32m   1339\u001b[0m \u001b[43m        \u001b[49m\u001b[43mallowed_variables\u001b[49m\u001b[38;5;241;43m=\u001b[39;49m\u001b[43mallowed_variables\u001b[49m\u001b[43m,\u001b[49m\n\u001b[1;32m   1340\u001b[0m \u001b[43m    \u001b[49m\u001b[43m)\u001b[49m\n\u001b[1;32m   1342\u001b[0m     numerical_expressions\u001b[38;5;241m.\u001b[39mappend(cvxpy_expression)\n\u001b[1;32m   1344\u001b[0m \u001b[38;5;28;01mif\u001b[39;00m cvxpy_expression \u001b[38;5;129;01mis\u001b[39;00m \u001b[38;5;28;01mNone\u001b[39;00m:\n",
      "File \u001b[0;32m~/Documents/GitHub/pyesm_tesi/esm/backend/problem.py:1204\u001b[0m, in \u001b[0;36mProblem.execute_cvxpy_code\u001b[0;34m(self, expression, allowed_variables, allowed_operators)\u001b[0m\n\u001b[1;32m   1200\u001b[0m     allowed_operators \u001b[38;5;241m=\u001b[39m \u001b[38;5;28mdict\u001b[39m(Constants\u001b[38;5;241m.\u001b[39mget(\u001b[38;5;124m'\u001b[39m\u001b[38;5;124m_ALLOWED_OPERATORS\u001b[39m\u001b[38;5;124m'\u001b[39m))\n\u001b[1;32m   1202\u001b[0m \u001b[38;5;28;01mtry\u001b[39;00m:\n\u001b[1;32m   1203\u001b[0m     \u001b[38;5;66;03m# pylint: disable-next=exec-used\u001b[39;00m\n\u001b[0;32m-> 1204\u001b[0m     \u001b[43mexec\u001b[49m\u001b[43m(\u001b[49m\n\u001b[1;32m   1205\u001b[0m \u001b[43m        \u001b[49m\u001b[38;5;124;43m'\u001b[39;49m\u001b[38;5;124;43moutput = \u001b[39;49m\u001b[38;5;124;43m'\u001b[39;49m\u001b[43m \u001b[49m\u001b[38;5;241;43m+\u001b[39;49m\u001b[43m \u001b[49m\u001b[43mexpression\u001b[49m\u001b[43m,\u001b[49m\n\u001b[1;32m   1206\u001b[0m \u001b[43m        \u001b[49m\u001b[43m{\u001b[49m\u001b[38;5;241;43m*\u001b[39;49m\u001b[38;5;241;43m*\u001b[39;49m\u001b[43mallowed_operators\u001b[49m\u001b[43m,\u001b[49m\u001b[43m \u001b[49m\u001b[38;5;241;43m*\u001b[39;49m\u001b[38;5;241;43m*\u001b[39;49m\u001b[43mallowed_variables\u001b[49m\u001b[43m}\u001b[49m\u001b[43m,\u001b[49m\n\u001b[1;32m   1207\u001b[0m \u001b[43m        \u001b[49m\u001b[43mlocal_vars\u001b[49m\u001b[43m,\u001b[49m\n\u001b[1;32m   1208\u001b[0m \u001b[43m    \u001b[49m\u001b[43m)\u001b[49m\n\u001b[1;32m   1210\u001b[0m \u001b[38;5;28;01mexcept\u001b[39;00m \u001b[38;5;167;01mSyntaxError\u001b[39;00m \u001b[38;5;28;01mas\u001b[39;00m e:\n\u001b[1;32m   1211\u001b[0m     msg \u001b[38;5;241m=\u001b[39m \u001b[38;5;124m\"\u001b[39m\u001b[38;5;124mError in executing cvxpy expression: \u001b[39m\u001b[38;5;124m\"\u001b[39m \\\n\u001b[1;32m   1212\u001b[0m         \u001b[38;5;124m\"\u001b[39m\u001b[38;5;124mcheck allowed variables, operators or expression syntax.\u001b[39m\u001b[38;5;124m\"\u001b[39m\n",
      "File \u001b[0;32m<string>:1\u001b[0m\n",
      "File \u001b[0;32m/opt/anaconda3/envs/pyesm/lib/python3.12/site-packages/cvxpy/expressions/expression.py:50\u001b[0m, in \u001b[0;36m_cast_other.<locals>.cast_op\u001b[0;34m(self, other)\u001b[0m\n\u001b[1;32m     47\u001b[0m \u001b[38;5;250m\u001b[39m\u001b[38;5;124;03m\"\"\"A wrapped binary operator that can handle non-Expression arguments.\u001b[39;00m\n\u001b[1;32m     48\u001b[0m \u001b[38;5;124;03m\"\"\"\u001b[39;00m\n\u001b[1;32m     49\u001b[0m other \u001b[38;5;241m=\u001b[39m \u001b[38;5;28mself\u001b[39m\u001b[38;5;241m.\u001b[39mcast_to_const(other)\n\u001b[0;32m---> 50\u001b[0m \u001b[38;5;28;01mreturn\u001b[39;00m \u001b[43mbinary_op\u001b[49m\u001b[43m(\u001b[49m\u001b[38;5;28;43mself\u001b[39;49m\u001b[43m,\u001b[49m\u001b[43m \u001b[49m\u001b[43mother\u001b[49m\u001b[43m)\u001b[49m\n",
      "File \u001b[0;32m/opt/anaconda3/envs/pyesm/lib/python3.12/site-packages/cvxpy/expressions/expression.py:724\u001b[0m, in \u001b[0;36mExpression.__eq__\u001b[0;34m(self, other)\u001b[0m\n\u001b[1;32m    720\u001b[0m \u001b[38;5;129m@_cast_other\u001b[39m\n\u001b[1;32m    721\u001b[0m \u001b[38;5;28;01mdef\u001b[39;00m \u001b[38;5;21m__eq__\u001b[39m(\u001b[38;5;28mself\u001b[39m, other: ExpressionLike):\n\u001b[1;32m    722\u001b[0m \u001b[38;5;250m    \u001b[39m\u001b[38;5;124;03m\"\"\"Equality : Creates a constraint ``self == other``.\u001b[39;00m\n\u001b[1;32m    723\u001b[0m \u001b[38;5;124;03m    \"\"\"\u001b[39;00m\n\u001b[0;32m--> 724\u001b[0m     \u001b[38;5;28;01mreturn\u001b[39;00m \u001b[43mEquality\u001b[49m\u001b[43m(\u001b[49m\u001b[38;5;28;43mself\u001b[39;49m\u001b[43m,\u001b[49m\u001b[43m \u001b[49m\u001b[43mother\u001b[49m\u001b[43m)\u001b[49m\n",
      "File \u001b[0;32m/opt/anaconda3/envs/pyesm/lib/python3.12/site-packages/cvxpy/constraints/zero.py:103\u001b[0m, in \u001b[0;36mEquality.__init__\u001b[0;34m(self, lhs, rhs, constr_id)\u001b[0m\n\u001b[1;32m    102\u001b[0m \u001b[38;5;28;01mdef\u001b[39;00m \u001b[38;5;21m__init__\u001b[39m(\u001b[38;5;28mself\u001b[39m, lhs, rhs, constr_id\u001b[38;5;241m=\u001b[39m\u001b[38;5;28;01mNone\u001b[39;00m) \u001b[38;5;241m-\u001b[39m\u001b[38;5;241m>\u001b[39m \u001b[38;5;28;01mNone\u001b[39;00m:\n\u001b[0;32m--> 103\u001b[0m     \u001b[38;5;28mself\u001b[39m\u001b[38;5;241m.\u001b[39m_expr \u001b[38;5;241m=\u001b[39m \u001b[43mlhs\u001b[49m\u001b[43m \u001b[49m\u001b[38;5;241;43m-\u001b[39;49m\u001b[43m \u001b[49m\u001b[43mrhs\u001b[49m\n\u001b[1;32m    104\u001b[0m     \u001b[38;5;28msuper\u001b[39m(Equality, \u001b[38;5;28mself\u001b[39m)\u001b[38;5;241m.\u001b[39m\u001b[38;5;21m__init__\u001b[39m([lhs, rhs], constr_id)\n",
      "File \u001b[0;32m/opt/anaconda3/envs/pyesm/lib/python3.12/site-packages/cvxpy/expressions/expression.py:50\u001b[0m, in \u001b[0;36m_cast_other.<locals>.cast_op\u001b[0;34m(self, other)\u001b[0m\n\u001b[1;32m     47\u001b[0m \u001b[38;5;250m\u001b[39m\u001b[38;5;124;03m\"\"\"A wrapped binary operator that can handle non-Expression arguments.\u001b[39;00m\n\u001b[1;32m     48\u001b[0m \u001b[38;5;124;03m\"\"\"\u001b[39;00m\n\u001b[1;32m     49\u001b[0m other \u001b[38;5;241m=\u001b[39m \u001b[38;5;28mself\u001b[39m\u001b[38;5;241m.\u001b[39mcast_to_const(other)\n\u001b[0;32m---> 50\u001b[0m \u001b[38;5;28;01mreturn\u001b[39;00m \u001b[43mbinary_op\u001b[49m\u001b[43m(\u001b[49m\u001b[38;5;28;43mself\u001b[39;49m\u001b[43m,\u001b[49m\u001b[43m \u001b[49m\u001b[43mother\u001b[49m\u001b[43m)\u001b[49m\n",
      "File \u001b[0;32m/opt/anaconda3/envs/pyesm/lib/python3.12/site-packages/cvxpy/expressions/expression.py:584\u001b[0m, in \u001b[0;36mExpression.__sub__\u001b[0;34m(self, other)\u001b[0m\n\u001b[1;32m    580\u001b[0m \u001b[38;5;129m@_cast_other\u001b[39m\n\u001b[1;32m    581\u001b[0m \u001b[38;5;28;01mdef\u001b[39;00m \u001b[38;5;21m__sub__\u001b[39m(\u001b[38;5;28mself\u001b[39m, other: ExpressionLike) \u001b[38;5;241m-\u001b[39m\u001b[38;5;241m>\u001b[39m \u001b[38;5;124m\"\u001b[39m\u001b[38;5;124mExpression\u001b[39m\u001b[38;5;124m\"\u001b[39m:\n\u001b[1;32m    582\u001b[0m \u001b[38;5;250m    \u001b[39m\u001b[38;5;124;03m\"\"\"Expression : The difference of two expressions.\u001b[39;00m\n\u001b[1;32m    583\u001b[0m \u001b[38;5;124;03m    \"\"\"\u001b[39;00m\n\u001b[0;32m--> 584\u001b[0m     \u001b[38;5;28;01mreturn\u001b[39;00m \u001b[38;5;28;43mself\u001b[39;49m\u001b[43m \u001b[49m\u001b[38;5;241;43m+\u001b[39;49m\u001b[43m \u001b[49m\u001b[38;5;241;43m-\u001b[39;49m\u001b[43mother\u001b[49m\n",
      "File \u001b[0;32m/opt/anaconda3/envs/pyesm/lib/python3.12/site-packages/cvxpy/expressions/expression.py:50\u001b[0m, in \u001b[0;36m_cast_other.<locals>.cast_op\u001b[0;34m(self, other)\u001b[0m\n\u001b[1;32m     47\u001b[0m \u001b[38;5;250m\u001b[39m\u001b[38;5;124;03m\"\"\"A wrapped binary operator that can handle non-Expression arguments.\u001b[39;00m\n\u001b[1;32m     48\u001b[0m \u001b[38;5;124;03m\"\"\"\u001b[39;00m\n\u001b[1;32m     49\u001b[0m other \u001b[38;5;241m=\u001b[39m \u001b[38;5;28mself\u001b[39m\u001b[38;5;241m.\u001b[39mcast_to_const(other)\n\u001b[0;32m---> 50\u001b[0m \u001b[38;5;28;01mreturn\u001b[39;00m \u001b[43mbinary_op\u001b[49m\u001b[43m(\u001b[49m\u001b[38;5;28;43mself\u001b[39;49m\u001b[43m,\u001b[49m\u001b[43m \u001b[49m\u001b[43mother\u001b[49m\u001b[43m)\u001b[49m\n",
      "File \u001b[0;32m/opt/anaconda3/envs/pyesm/lib/python3.12/site-packages/cvxpy/expressions/expression.py:570\u001b[0m, in \u001b[0;36mExpression.__add__\u001b[0;34m(self, other)\u001b[0m\n\u001b[1;32m    568\u001b[0m     \u001b[38;5;28;01mreturn\u001b[39;00m \u001b[38;5;28mself\u001b[39m\n\u001b[1;32m    569\u001b[0m \u001b[38;5;28mself\u001b[39m, other \u001b[38;5;241m=\u001b[39m \u001b[38;5;28mself\u001b[39m\u001b[38;5;241m.\u001b[39mbroadcast(\u001b[38;5;28mself\u001b[39m, other)\n\u001b[0;32m--> 570\u001b[0m \u001b[38;5;28;01mreturn\u001b[39;00m \u001b[43mcvxtypes\u001b[49m\u001b[38;5;241;43m.\u001b[39;49m\u001b[43madd_expr\u001b[49m\u001b[43m(\u001b[49m\u001b[43m)\u001b[49m\u001b[43m(\u001b[49m\u001b[43m[\u001b[49m\u001b[38;5;28;43mself\u001b[39;49m\u001b[43m,\u001b[49m\u001b[43m \u001b[49m\u001b[43mother\u001b[49m\u001b[43m]\u001b[49m\u001b[43m)\u001b[49m\n",
      "File \u001b[0;32m/opt/anaconda3/envs/pyesm/lib/python3.12/site-packages/cvxpy/atoms/affine/add_expr.py:34\u001b[0m, in \u001b[0;36mAddExpression.__init__\u001b[0;34m(self, arg_groups)\u001b[0m\n\u001b[1;32m     31\u001b[0m \u001b[38;5;28;01mdef\u001b[39;00m \u001b[38;5;21m__init__\u001b[39m(\u001b[38;5;28mself\u001b[39m, arg_groups) \u001b[38;5;241m-\u001b[39m\u001b[38;5;241m>\u001b[39m \u001b[38;5;28;01mNone\u001b[39;00m:\n\u001b[1;32m     32\u001b[0m     \u001b[38;5;66;03m# For efficiency group args as sums.\u001b[39;00m\n\u001b[1;32m     33\u001b[0m     \u001b[38;5;28mself\u001b[39m\u001b[38;5;241m.\u001b[39m_arg_groups \u001b[38;5;241m=\u001b[39m arg_groups\n\u001b[0;32m---> 34\u001b[0m     \u001b[38;5;28;43msuper\u001b[39;49m\u001b[43m(\u001b[49m\u001b[43mAddExpression\u001b[49m\u001b[43m,\u001b[49m\u001b[43m \u001b[49m\u001b[38;5;28;43mself\u001b[39;49m\u001b[43m)\u001b[49m\u001b[38;5;241;43m.\u001b[39;49m\u001b[38;5;21;43m__init__\u001b[39;49m\u001b[43m(\u001b[49m\u001b[38;5;241;43m*\u001b[39;49m\u001b[43marg_groups\u001b[49m\u001b[43m)\u001b[49m\n\u001b[1;32m     35\u001b[0m     \u001b[38;5;28mself\u001b[39m\u001b[38;5;241m.\u001b[39margs \u001b[38;5;241m=\u001b[39m []\n\u001b[1;32m     36\u001b[0m     \u001b[38;5;28;01mfor\u001b[39;00m group \u001b[38;5;129;01min\u001b[39;00m arg_groups:\n",
      "File \u001b[0;32m/opt/anaconda3/envs/pyesm/lib/python3.12/site-packages/cvxpy/atoms/atom.py:51\u001b[0m, in \u001b[0;36mAtom.__init__\u001b[0;34m(self, *args)\u001b[0m\n\u001b[1;32m     49\u001b[0m \u001b[38;5;28mself\u001b[39m\u001b[38;5;241m.\u001b[39margs \u001b[38;5;241m=\u001b[39m [Atom\u001b[38;5;241m.\u001b[39mcast_to_const(arg) \u001b[38;5;28;01mfor\u001b[39;00m arg \u001b[38;5;129;01min\u001b[39;00m args]\n\u001b[1;32m     50\u001b[0m \u001b[38;5;28mself\u001b[39m\u001b[38;5;241m.\u001b[39mvalidate_arguments()\n\u001b[0;32m---> 51\u001b[0m \u001b[38;5;28mself\u001b[39m\u001b[38;5;241m.\u001b[39m_shape \u001b[38;5;241m=\u001b[39m \u001b[38;5;28;43mself\u001b[39;49m\u001b[38;5;241;43m.\u001b[39;49m\u001b[43mshape_from_args\u001b[49m\u001b[43m(\u001b[49m\u001b[43m)\u001b[49m\n\u001b[1;32m     52\u001b[0m \u001b[38;5;28;01mif\u001b[39;00m \u001b[38;5;28mlen\u001b[39m(\u001b[38;5;28mself\u001b[39m\u001b[38;5;241m.\u001b[39m_shape) \u001b[38;5;241m>\u001b[39m \u001b[38;5;241m2\u001b[39m:\n\u001b[1;32m     53\u001b[0m     \u001b[38;5;28;01mraise\u001b[39;00m \u001b[38;5;167;01mValueError\u001b[39;00m(\u001b[38;5;124m\"\u001b[39m\u001b[38;5;124mAtoms must be at most 2D.\u001b[39m\u001b[38;5;124m\"\u001b[39m)\n",
      "File \u001b[0;32m/opt/anaconda3/envs/pyesm/lib/python3.12/site-packages/cvxpy/atoms/affine/add_expr.py:42\u001b[0m, in \u001b[0;36mAddExpression.shape_from_args\u001b[0;34m(self)\u001b[0m\n\u001b[1;32m     39\u001b[0m \u001b[38;5;28;01mdef\u001b[39;00m \u001b[38;5;21mshape_from_args\u001b[39m(\u001b[38;5;28mself\u001b[39m) \u001b[38;5;241m-\u001b[39m\u001b[38;5;241m>\u001b[39m Tuple[\u001b[38;5;28mint\u001b[39m, \u001b[38;5;241m.\u001b[39m\u001b[38;5;241m.\u001b[39m\u001b[38;5;241m.\u001b[39m]:\n\u001b[1;32m     40\u001b[0m \u001b[38;5;250m    \u001b[39m\u001b[38;5;124;03m\"\"\"Returns the (row, col) shape of the expression.\u001b[39;00m\n\u001b[1;32m     41\u001b[0m \u001b[38;5;124;03m    \"\"\"\u001b[39;00m\n\u001b[0;32m---> 42\u001b[0m     \u001b[38;5;28;01mreturn\u001b[39;00m \u001b[43mu\u001b[49m\u001b[38;5;241;43m.\u001b[39;49m\u001b[43mshape\u001b[49m\u001b[38;5;241;43m.\u001b[39;49m\u001b[43msum_shapes\u001b[49m\u001b[43m(\u001b[49m\u001b[43m[\u001b[49m\u001b[43marg\u001b[49m\u001b[38;5;241;43m.\u001b[39;49m\u001b[43mshape\u001b[49m\u001b[43m \u001b[49m\u001b[38;5;28;43;01mfor\u001b[39;49;00m\u001b[43m \u001b[49m\u001b[43marg\u001b[49m\u001b[43m \u001b[49m\u001b[38;5;129;43;01min\u001b[39;49;00m\u001b[43m \u001b[49m\u001b[38;5;28;43mself\u001b[39;49m\u001b[38;5;241;43m.\u001b[39;49m\u001b[43margs\u001b[49m\u001b[43m]\u001b[49m\u001b[43m)\u001b[49m\n",
      "File \u001b[0;32m/opt/anaconda3/envs/pyesm/lib/python3.12/site-packages/cvxpy/utilities/shape.py:50\u001b[0m, in \u001b[0;36msum_shapes\u001b[0;34m(shapes)\u001b[0m\n\u001b[1;32m     47\u001b[0m \u001b[38;5;28;01mfor\u001b[39;00m t \u001b[38;5;129;01min\u001b[39;00m shapes[\u001b[38;5;241m1\u001b[39m:]:\n\u001b[1;32m     48\u001b[0m     \u001b[38;5;66;03m# Only allow broadcasting for 0D arrays or summation of scalars.\u001b[39;00m\n\u001b[1;32m     49\u001b[0m     \u001b[38;5;28;01mif\u001b[39;00m shape \u001b[38;5;241m!=\u001b[39m t \u001b[38;5;129;01mand\u001b[39;00m \u001b[38;5;28mlen\u001b[39m(squeezed(shape)) \u001b[38;5;241m!=\u001b[39m \u001b[38;5;241m0\u001b[39m \u001b[38;5;129;01mand\u001b[39;00m \u001b[38;5;28mlen\u001b[39m(squeezed(t)) \u001b[38;5;241m!=\u001b[39m \u001b[38;5;241m0\u001b[39m:\n\u001b[0;32m---> 50\u001b[0m         \u001b[38;5;28;01mraise\u001b[39;00m \u001b[38;5;167;01mValueError\u001b[39;00m(\n\u001b[1;32m     51\u001b[0m             \u001b[38;5;124m\"\u001b[39m\u001b[38;5;124mCannot broadcast dimensions \u001b[39m\u001b[38;5;124m\"\u001b[39m \u001b[38;5;241m+\u001b[39m\n\u001b[1;32m     52\u001b[0m             \u001b[38;5;28mlen\u001b[39m(shapes)\u001b[38;5;241m*\u001b[39m\u001b[38;5;124m\"\u001b[39m\u001b[38;5;124m \u001b[39m\u001b[38;5;132;01m%s\u001b[39;00m\u001b[38;5;124m\"\u001b[39m \u001b[38;5;241m%\u001b[39m \u001b[38;5;28mtuple\u001b[39m(shapes))\n\u001b[1;32m     54\u001b[0m     longer \u001b[38;5;241m=\u001b[39m shape \u001b[38;5;28;01mif\u001b[39;00m \u001b[38;5;28mlen\u001b[39m(shape) \u001b[38;5;241m>\u001b[39m\u001b[38;5;241m=\u001b[39m \u001b[38;5;28mlen\u001b[39m(t) \u001b[38;5;28;01melse\u001b[39;00m t\n\u001b[1;32m     55\u001b[0m     shorter \u001b[38;5;241m=\u001b[39m shape \u001b[38;5;28;01mif\u001b[39;00m \u001b[38;5;28mlen\u001b[39m(shape) \u001b[38;5;241m<\u001b[39m \u001b[38;5;28mlen\u001b[39m(t) \u001b[38;5;28;01melse\u001b[39;00m t\n",
      "\u001b[0;31mValueError\u001b[0m: Cannot broadcast dimensions  (6, 1) (7, 1)"
     ]
    }
   ],
   "source": [
    "# after filling input_data file/s:\n",
    "# - loading input data into sqlite database variables tables\n",
    "# - initialize problem\n",
    "model.load_exogenous_data_to_sqlite_database()\n",
    "model.initialize_problems()"
   ]
  },
  {
   "cell_type": "code",
   "execution_count": null,
   "metadata": {},
   "outputs": [],
   "source": [
    "#-->\n",
    "# solve numerical problems\n",
    "model.run_model(verbose=False, solver='GUROBI')"
   ]
  },
  {
   "cell_type": "code",
   "execution_count": null,
   "metadata": {},
   "outputs": [],
   "source": [
    "model.load_results_to_database()\n",
    "#model.generate_pbi_report()"
   ]
  },
  {
   "cell_type": "markdown",
   "metadata": {},
   "source": [
    "- - - \n",
    "MODEL GENERATION FROM EXISTING DATA\n",
    "\n",
    "Generation of a new model working with existing database and data input files."
   ]
  },
  {
   "cell_type": "markdown",
   "metadata": {},
   "source": [
    "- - -\n",
    "DATA and MODEL UPDATE, MODEL RUN \n",
    "\n",
    "updating SQLite database with new data, \n",
    "re-initializing numerical problem\n",
    "\n",
    "solving numerical model, \n",
    "results export to sqlite database, \n",
    "generation of powerbi dataset"
   ]
  },
  {
   "cell_type": "code",
   "execution_count": 25,
   "metadata": {},
   "outputs": [
    {
     "name": "stderr",
     "output_type": "stream",
     "text": [
      "INFO | Model | Updating SQLite database 'database.db' and initialize problems.\n",
      "INFO | Model | Loading input data to SQLite database.\n",
      "WARNING | Model.core.sql_manager | SQLite table u already up to date.\n",
      "WARNING | Model.core.sql_manager | SQLite table cf already up to date.\n",
      "WARNING | Model.core.sql_manager | SQLite table Y already up to date.\n",
      "WARNING | Model.core.sql_manager | SQLite table cost_op already up to date.\n",
      "WARNING | Model.core.sql_manager | SQLite table TI_param already up to date.\n",
      "WARNING | Model.core.sql_manager | SQLite table storage_min already up to date.\n",
      "WARNING | Model.core.sql_manager | SQLite table storage_max already up to date.\n",
      "WARNING | Model.core.sql_manager | SQLite table storage_start already up to date.\n",
      "WARNING | Model.core.sql_manager | SQLite table storage_min_charge already up to date.\n",
      "WARNING | Model.core.sql_manager | SQLite table Cool_vector already up to date.\n",
      "WARNING | Model.core.sql_manager | SQLite table BEV_level_min already up to date.\n",
      "WARNING | Model.core.sql_manager | SQLite table BEV_level_max already up to date.\n",
      "WARNING | Model.core.sql_manager | SQLite table BEV_level_start already up to date.\n",
      "INFO | Model | Loading symbolic problem, initializing numerical problem.\n",
      "WARNING | Model.core.problem | Symbolic problem already loaded.\n",
      "WARNING | Model.core.problem | Numerical problem already defined.\n"
     ]
    }
   ],
   "source": [
    "# in case of modifications in input data files (but not in sets, nor in \n",
    "# variables structures), update database and problem only\n",
    "model.update_database_and_problem()"
   ]
  },
  {
   "cell_type": "code",
   "execution_count": 22,
   "metadata": {},
   "outputs": [
    {
     "name": "stderr",
     "output_type": "stream",
     "text": [
      "INFO | Model | Loading symbolic problem, initializing numerical problem.\n",
      "WARNING | Model.core.problem | Symbolic problem already loaded.\n"
     ]
    }
   ],
   "source": [
    "# in case of modifications in symbolic problem only,\n",
    "# update problems dataframe and symbolic problem\n",
    "model.initialize_problems()"
   ]
  },
  {
   "cell_type": "code",
   "execution_count": 26,
   "metadata": {},
   "outputs": [
    {
     "name": "stderr",
     "output_type": "stream",
     "text": [
      "INFO | Model | Solving numerical problem with 'GUROBI' solver\n",
      "WARNING | Model.core | Numeric problems already solved.\n",
      "INFO | Model.core | Solving numeric problem and overwriting existing variables numerical values.\n",
      "INFO | Model.core.problem | Solving numerical problem - Sub-problem ['baseline'].\n",
      "INFO | Model | =================================\n",
      "INFO | Model | Numerical problems status report:\n",
      "INFO | Model | problem: optimal\n"
     ]
    }
   ],
   "source": [
    "# solve numerical problems\n",
    "model.run_model(verbose=False, solver='GUROBI')"
   ]
  },
  {
   "cell_type": "code",
   "execution_count": 27,
   "metadata": {},
   "outputs": [
    {
     "name": "stderr",
     "output_type": "stream",
     "text": [
      "INFO | Model | Exporting endogenous model results to SQLite database.\n",
      "WARNING | Model.core.sql_manager | SQLite table insulation already up to date.\n",
      "WARNING | Model.core.sql_manager | SQLite table TI already up to date.\n",
      "WARNING | Model.core.sql_manager | SQLite table SOC_min already up to date.\n",
      "WARNING | Model.core.sql_manager | SQLite table SOC_max already up to date.\n",
      "WARNING | Model.core.sql_manager | SQLite table SOC_start already up to date.\n",
      "WARNING | Model.core.sql_manager | SQLite table min_charge already up to date.\n",
      "WARNING | Model.core.sql_manager | SQLite table SOC_start_cool already up to date.\n",
      "WARNING | Model.core.sql_manager | SQLite table BEV_SOC_min already up to date.\n",
      "WARNING | Model.core.sql_manager | SQLite table BEV_SOC_max already up to date.\n",
      "WARNING | Model.core.sql_manager | SQLite table BEV_SOC_start already up to date.\n"
     ]
    }
   ],
   "source": [
    "# once model has successfully solved, load endogenous parameters data to \n",
    "# sqlite database and generate powerbi dataset.\n",
    "model.load_results_to_database()\n",
    "#model.generate_pbi_report()"
   ]
  }
 ],
 "metadata": {
  "kernelspec": {
   "display_name": "esm_dev",
   "language": "python",
   "name": "python3"
  },
  "language_info": {
   "codemirror_mode": {
    "name": "ipython",
    "version": 3
   },
   "file_extension": ".py",
   "mimetype": "text/x-python",
   "name": "python",
   "nbconvert_exporter": "python",
   "pygments_lexer": "ipython3",
   "version": "3.12.4"
  },
  "orig_nbformat": 4
 },
 "nbformat": 4,
 "nbformat_minor": 2
}
